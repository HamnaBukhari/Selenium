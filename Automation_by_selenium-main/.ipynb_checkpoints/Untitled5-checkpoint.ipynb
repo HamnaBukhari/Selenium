{
 "cells": [
  {
   "cell_type": "code",
   "execution_count": 2,
   "id": "d14639bb",
   "metadata": {},
   "outputs": [
    {
     "name": "stdout",
     "output_type": "stream",
     "text": [
      "Christopher Dobyne\n",
      "chris3456948@gmail.com\n"
     ]
    },
    {
     "ename": "NoSuchElementException",
     "evalue": "Message: no such element: Unable to locate element: {\"method\":\"css selector\",\"selector\":\".round\"}\n  (Session info: chrome=115.0.5790.102); For documentation on this error, please visit: https://www.selenium.dev/documentation/webdriver/troubleshooting/errors#no-such-element-exception\nStacktrace:\nBacktrace:\n\tGetHandleVerifier [0x00BC1C53+49427]\n\t(No symbol) [0x00B55F41]\n\t(No symbol) [0x00A5C64D]\n\t(No symbol) [0x00A89818]\n\t(No symbol) [0x00A898DB]\n\t(No symbol) [0x00AB87D2]\n\t(No symbol) [0x00AA4A64]\n\t(No symbol) [0x00AB6F2A]\n\t(No symbol) [0x00AA4816]\n\t(No symbol) [0x00A81127]\n\t(No symbol) [0x00A822AD]\n\tGetHandleVerifier [0x00E17149+2496009]\n\tGetHandleVerifier [0x00E5D572+2783794]\n\tGetHandleVerifier [0x00E57491+2758993]\n\tGetHandleVerifier [0x00C411D0+571024]\n\t(No symbol) [0x00B5F96A]\n\t(No symbol) [0x00B5BD88]\n\t(No symbol) [0x00B5BE6B]\n\t(No symbol) [0x00B4EA97]\n\tBaseThreadInitThunk [0x76A000C9+25]\n\tRtlGetAppContainerNamedObjectPath [0x77047B1E+286]\n\tRtlGetAppContainerNamedObjectPath [0x77047AEE+238]\n",
     "output_type": "error",
     "traceback": [
      "\u001b[1;31m---------------------------------------------------------------------------\u001b[0m",
      "\u001b[1;31mNoSuchElementException\u001b[0m                    Traceback (most recent call last)",
      "Cell \u001b[1;32mIn[2], line 32\u001b[0m\n\u001b[0;32m     28\u001b[0m driver\u001b[38;5;241m.\u001b[39mfind_element(By\u001b[38;5;241m.\u001b[39mNAME, \u001b[38;5;124m'\u001b[39m\u001b[38;5;124memail\u001b[39m\u001b[38;5;124m'\u001b[39m)\u001b[38;5;241m.\u001b[39msend_keys(email)\n\u001b[0;32m     30\u001b[0m sleep(\u001b[38;5;241m5\u001b[39m)\n\u001b[1;32m---> 32\u001b[0m button2\u001b[38;5;241m=\u001b[39mdriver\u001b[38;5;241m.\u001b[39mfind_element(By\u001b[38;5;241m.\u001b[39mCLASS_NAME,\u001b[38;5;124m\"\u001b[39m\u001b[38;5;124mround\u001b[39m\u001b[38;5;124m\"\u001b[39m)\n\u001b[0;32m     33\u001b[0m button2\u001b[38;5;241m=\u001b[39mdriver\u001b[38;5;241m.\u001b[39mfind_element(By\u001b[38;5;241m.\u001b[39mXPATH,\u001b[38;5;124m\"\u001b[39m\u001b[38;5;124m//button[text()=\u001b[39m\u001b[38;5;124m'\u001b[39m\u001b[38;5;124mSign Up Now\u001b[39m\u001b[38;5;124m'\u001b[39m\u001b[38;5;124m]\u001b[39m\u001b[38;5;124m\"\u001b[39m)\n\u001b[0;32m     34\u001b[0m \u001b[38;5;66;03m#button2.click()\u001b[39;00m\n",
      "File \u001b[1;32mC:\\LibFolder\\Lib\\site-packages\\selenium\\webdriver\\remote\\webdriver.py:740\u001b[0m, in \u001b[0;36mWebDriver.find_element\u001b[1;34m(self, by, value)\u001b[0m\n\u001b[0;32m    737\u001b[0m     by \u001b[38;5;241m=\u001b[39m By\u001b[38;5;241m.\u001b[39mCSS_SELECTOR\n\u001b[0;32m    738\u001b[0m     value \u001b[38;5;241m=\u001b[39m \u001b[38;5;124mf\u001b[39m\u001b[38;5;124m'\u001b[39m\u001b[38;5;124m[name=\u001b[39m\u001b[38;5;124m\"\u001b[39m\u001b[38;5;132;01m{\u001b[39;00mvalue\u001b[38;5;132;01m}\u001b[39;00m\u001b[38;5;124m\"\u001b[39m\u001b[38;5;124m]\u001b[39m\u001b[38;5;124m'\u001b[39m\n\u001b[1;32m--> 740\u001b[0m \u001b[38;5;28;01mreturn\u001b[39;00m \u001b[38;5;28mself\u001b[39m\u001b[38;5;241m.\u001b[39mexecute(Command\u001b[38;5;241m.\u001b[39mFIND_ELEMENT, {\u001b[38;5;124m\"\u001b[39m\u001b[38;5;124musing\u001b[39m\u001b[38;5;124m\"\u001b[39m: by, \u001b[38;5;124m\"\u001b[39m\u001b[38;5;124mvalue\u001b[39m\u001b[38;5;124m\"\u001b[39m: value})[\u001b[38;5;124m\"\u001b[39m\u001b[38;5;124mvalue\u001b[39m\u001b[38;5;124m\"\u001b[39m]\n",
      "File \u001b[1;32mC:\\LibFolder\\Lib\\site-packages\\selenium\\webdriver\\remote\\webdriver.py:346\u001b[0m, in \u001b[0;36mWebDriver.execute\u001b[1;34m(self, driver_command, params)\u001b[0m\n\u001b[0;32m    344\u001b[0m response \u001b[38;5;241m=\u001b[39m \u001b[38;5;28mself\u001b[39m\u001b[38;5;241m.\u001b[39mcommand_executor\u001b[38;5;241m.\u001b[39mexecute(driver_command, params)\n\u001b[0;32m    345\u001b[0m \u001b[38;5;28;01mif\u001b[39;00m response:\n\u001b[1;32m--> 346\u001b[0m     \u001b[38;5;28mself\u001b[39m\u001b[38;5;241m.\u001b[39merror_handler\u001b[38;5;241m.\u001b[39mcheck_response(response)\n\u001b[0;32m    347\u001b[0m     response[\u001b[38;5;124m\"\u001b[39m\u001b[38;5;124mvalue\u001b[39m\u001b[38;5;124m\"\u001b[39m] \u001b[38;5;241m=\u001b[39m \u001b[38;5;28mself\u001b[39m\u001b[38;5;241m.\u001b[39m_unwrap_value(response\u001b[38;5;241m.\u001b[39mget(\u001b[38;5;124m\"\u001b[39m\u001b[38;5;124mvalue\u001b[39m\u001b[38;5;124m\"\u001b[39m, \u001b[38;5;28;01mNone\u001b[39;00m))\n\u001b[0;32m    348\u001b[0m     \u001b[38;5;28;01mreturn\u001b[39;00m response\n",
      "File \u001b[1;32mC:\\LibFolder\\Lib\\site-packages\\selenium\\webdriver\\remote\\errorhandler.py:245\u001b[0m, in \u001b[0;36mErrorHandler.check_response\u001b[1;34m(self, response)\u001b[0m\n\u001b[0;32m    243\u001b[0m         alert_text \u001b[38;5;241m=\u001b[39m value[\u001b[38;5;124m\"\u001b[39m\u001b[38;5;124malert\u001b[39m\u001b[38;5;124m\"\u001b[39m]\u001b[38;5;241m.\u001b[39mget(\u001b[38;5;124m\"\u001b[39m\u001b[38;5;124mtext\u001b[39m\u001b[38;5;124m\"\u001b[39m)\n\u001b[0;32m    244\u001b[0m     \u001b[38;5;28;01mraise\u001b[39;00m exception_class(message, screen, stacktrace, alert_text)  \u001b[38;5;66;03m# type: ignore[call-arg]  # mypy is not smart enough here\u001b[39;00m\n\u001b[1;32m--> 245\u001b[0m \u001b[38;5;28;01mraise\u001b[39;00m exception_class(message, screen, stacktrace)\n",
      "\u001b[1;31mNoSuchElementException\u001b[0m: Message: no such element: Unable to locate element: {\"method\":\"css selector\",\"selector\":\".round\"}\n  (Session info: chrome=115.0.5790.102); For documentation on this error, please visit: https://www.selenium.dev/documentation/webdriver/troubleshooting/errors#no-such-element-exception\nStacktrace:\nBacktrace:\n\tGetHandleVerifier [0x00BC1C53+49427]\n\t(No symbol) [0x00B55F41]\n\t(No symbol) [0x00A5C64D]\n\t(No symbol) [0x00A89818]\n\t(No symbol) [0x00A898DB]\n\t(No symbol) [0x00AB87D2]\n\t(No symbol) [0x00AA4A64]\n\t(No symbol) [0x00AB6F2A]\n\t(No symbol) [0x00AA4816]\n\t(No symbol) [0x00A81127]\n\t(No symbol) [0x00A822AD]\n\tGetHandleVerifier [0x00E17149+2496009]\n\tGetHandleVerifier [0x00E5D572+2783794]\n\tGetHandleVerifier [0x00E57491+2758993]\n\tGetHandleVerifier [0x00C411D0+571024]\n\t(No symbol) [0x00B5F96A]\n\t(No symbol) [0x00B5BD88]\n\t(No symbol) [0x00B5BE6B]\n\t(No symbol) [0x00B4EA97]\n\tBaseThreadInitThunk [0x76A000C9+25]\n\tRtlGetAppContainerNamedObjectPath [0x77047B1E+286]\n\tRtlGetAppContainerNamedObjectPath [0x77047AEE+238]\n"
     ]
    }
   ],
   "source": [
    "# pip install webdriver-manager\n",
    "from selenium import webdriver\n",
    "from selenium.webdriver.chrome.service import Service\n",
    "from webdriver_manager.chrome import ChromeDriverManager\n",
    "from selenium.webdriver.common.by import By\n",
    "import random\n",
    "import string\n",
    "import sys\n",
    "from time import sleep\n",
    "import pandas as pd\n",
    "\n",
    "s=Service(ChromeDriverManager().install())\n",
    "\n",
    "# Load the Excel data\n",
    "df = pd.read_csv(\"data.csv\")\n",
    "\n",
    "for index, row in df.iterrows():\n",
    "    real_name = row['real_name']\n",
    "    email = row['email']\n",
    "    print(real_name)\n",
    "    print(email)\n",
    "    \n",
    "    driver = webdriver.Chrome(service=s)\n",
    "    driver.maximize_window()\n",
    "    driver.get('https://truckerhandle.com/signup-th')\n",
    "    sleep(10)\n",
    "    driver.find_element(By.NAME, 'first_name').send_keys(real_name)\n",
    "    driver.find_element(By.NAME, 'email').send_keys(email)\n",
    "\n",
    "    sleep(5)\n",
    "    \n",
    "   \n",
    "    button2=driver.find_element(By.XPATH,\"//button[text()='Sign Up Now']\")\n",
    "    button2.click()\n",
    "    sleep(5)\n",
    "    driver.close()\n",
    "    \n",
    "    f = open(\"testuserfile.txt\", \"a\")\n",
    "    user_details=real_name+ \" \"+ email+\",\"\n",
    "    f.write(user_details)\n",
    "    f.close()\n"
   ]
  },
  {
   "cell_type": "code",
   "execution_count": null,
   "id": "e84fb10d",
   "metadata": {},
   "outputs": [],
   "source": []
  }
 ],
 "metadata": {
  "kernelspec": {
   "display_name": "Python 3 (ipykernel)",
   "language": "python",
   "name": "python3"
  },
  "language_info": {
   "codemirror_mode": {
    "name": "ipython",
    "version": 3
   },
   "file_extension": ".py",
   "mimetype": "text/x-python",
   "name": "python",
   "nbconvert_exporter": "python",
   "pygments_lexer": "ipython3",
   "version": "3.11.3"
  }
 },
 "nbformat": 4,
 "nbformat_minor": 5
}
