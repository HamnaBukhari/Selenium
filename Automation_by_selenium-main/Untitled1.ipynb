{
 "cells": [
  {
   "cell_type": "code",
   "execution_count": 21,
   "id": "9d05abd7",
   "metadata": {},
   "outputs": [
    {
     "ename": "AttributeError",
     "evalue": "'WebDriver' object has no attribute 'find_elements_by_link_text'",
     "output_type": "error",
     "traceback": [
      "\u001b[1;31m---------------------------------------------------------------------------\u001b[0m",
      "\u001b[1;31mAttributeError\u001b[0m                            Traceback (most recent call last)",
      "\u001b[1;32m~\\AppData\\Local\\Temp\\ipykernel_9452\\2093240547.py\u001b[0m in \u001b[0;36m<module>\u001b[1;34m\u001b[0m\n\u001b[0;32m     25\u001b[0m \u001b[1;31m#button = browser.find_elements(By.CLASS_NAME, \"signup\")\u001b[0m\u001b[1;33m\u001b[0m\u001b[1;33m\u001b[0m\u001b[0m\n\u001b[0;32m     26\u001b[0m \u001b[1;31m#print(button)\u001b[0m\u001b[1;33m\u001b[0m\u001b[1;33m\u001b[0m\u001b[0m\n\u001b[1;32m---> 27\u001b[1;33m \u001b[0mbutton\u001b[0m\u001b[1;33m=\u001b[0m\u001b[0mbrowser\u001b[0m\u001b[1;33m.\u001b[0m\u001b[0mfind_elements_by_link_text\u001b[0m\u001b[1;33m(\u001b[0m\u001b[1;34m\"Sign up for Steamyfy\"\u001b[0m\u001b[1;33m)\u001b[0m\u001b[1;33m\u001b[0m\u001b[1;33m\u001b[0m\u001b[0m\n\u001b[0m\u001b[0;32m     28\u001b[0m \u001b[0mbutton\u001b[0m\u001b[1;33m.\u001b[0m\u001b[0mclick\u001b[0m\u001b[1;33m(\u001b[0m\u001b[1;33m)\u001b[0m\u001b[1;33m\u001b[0m\u001b[1;33m\u001b[0m\u001b[0m\n\u001b[0;32m     29\u001b[0m '''\n",
      "\u001b[1;31mAttributeError\u001b[0m: 'WebDriver' object has no attribute 'find_elements_by_link_text'"
     ]
    }
   ],
   "source": [
    "from selenium.webdriver import Chrome, ChromeOptions\n",
    "import time\n",
    "from selenium.webdriver.common.by import By\n",
    "\n",
    "EMAIL_ID = \"<your email ID>\"\n",
    "\n",
    "def slow_typing(element, text):\n",
    "   for character in text:\n",
    "      element.send_keys(character)\n",
    "      time.sleep(0.3)\n",
    "\n",
    "#Visit chrome://version/ and copy profile path in place of '<chrome user profile>'\n",
    "#options = ChromeOptions().add_argument(\"--user-data-dir=r'C:\\Users\\Admin\\AppData\\Local\\Google\\Chrome\\User Data\\Profile 1'\")\n",
    "\n",
    "browser = Chrome(chrome_options=options)\n",
    "browser.get('https://steamyfy.com/')\n",
    "\n",
    "time.sleep(4)\n",
    "\n",
    "# to accept cookie notification so that it doesn't interfere\n",
    "#cookie_cta = browser.find_element_by_id('accept-cookie-notification')\n",
    "#cookie_cta.click()\n",
    "\n",
    "# Navigate to Signup Page\n",
    "#button = browser.find_elements(By.CLASS_NAME, \"signup\")\n",
    "#print(button)\n",
    "button=browser.find_elements_by_link_text(\"Sign up for Steamyfy\")\n",
    "button.click()\n",
    "'''\n",
    "time.sleep(2)\n",
    "\n",
    "# Fill user's full name\n",
    "username = browser.find_element_by_id('user_fudll_name')\n",
    "# username.send_keys('John Doe')\n",
    "slow_typing(username, 'John Doe')\n",
    "\n",
    "time.sleep(1)\n",
    "# Fill user's email ID\n",
    "email = browser.find_element_by_id('user_email_login')\n",
    "slow_typing(email, EMAIL_ID)\n",
    "\n",
    "time.sleep(2)\n",
    "# Fill user's password\n",
    "password = browser.find_element_by_id('user_password')\n",
    "\n",
    "# Reads password from a text file because\n",
    "# it's silly to save the password in a script.\n",
    "with open('password.txt', 'r') as myfile:\n",
    "       Password = myfile.read().replace('\\n', '')\n",
    "slow_typing(password, Password)\n",
    "\n",
    "time.sleep(1)\n",
    "# click on Terms and Conditions\n",
    "toc = browser.find_element_by_name('terms_and_conditions')\n",
    "toc.click()\n",
    "\n",
    "# click on signup page\n",
    "signupbutton = browser.find_element_by_id('user_submit')\n",
    "signupbutton.click()\n",
    "\n",
    "time.sleep(20)\n",
    "\n",
    "browser.close()\n",
    "'''"
   ]
  },
  {
   "cell_type": "code",
   "execution_count": null,
   "id": "71a4e4c0",
   "metadata": {},
   "outputs": [],
   "source": []
  }
 ],
 "metadata": {
  "kernelspec": {
   "display_name": "Python 3 (ipykernel)",
   "language": "python",
   "name": "python3"
  },
  "language_info": {
   "codemirror_mode": {
    "name": "ipython",
    "version": 3
   },
   "file_extension": ".py",
   "mimetype": "text/x-python",
   "name": "python",
   "nbconvert_exporter": "python",
   "pygments_lexer": "ipython3",
   "version": "3.9.13"
  }
 },
 "nbformat": 4,
 "nbformat_minor": 5
}
