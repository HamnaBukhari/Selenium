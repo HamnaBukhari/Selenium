{
 "cells": [
  {
   "cell_type": "code",
   "execution_count": 10,
   "id": "a20401e5",
   "metadata": {},
   "outputs": [
    {
     "name": "stderr",
     "output_type": "stream",
     "text": [
      "C:\\Users\\Admin\\AppData\\Local\\Temp\\ipykernel_8940\\23438085.py:16: DeprecationWarning: use options instead of chrome_options\n",
      "  driver = webdriver.Chrome('chromedriver',chrome_options=chrome_options)\n"
     ]
    },
    {
     "ename": "AttributeError",
     "evalue": "'list' object has no attribute 'click'",
     "output_type": "error",
     "traceback": [
      "\u001b[1;31m---------------------------------------------------------------------------\u001b[0m",
      "\u001b[1;31mAttributeError\u001b[0m                            Traceback (most recent call last)",
      "\u001b[1;32m~\\AppData\\Local\\Temp\\ipykernel_8940\\23438085.py\u001b[0m in \u001b[0;36m<module>\u001b[1;34m\u001b[0m\n\u001b[0;32m     20\u001b[0m \u001b[1;31m# Find the username/email field and send the username to the input field.\u001b[0m\u001b[1;33m\u001b[0m\u001b[1;33m\u001b[0m\u001b[0m\n\u001b[0;32m     21\u001b[0m \u001b[1;31m#uname = driver.find_element(\"id\", \"login_field\")\u001b[0m\u001b[1;33m\u001b[0m\u001b[1;33m\u001b[0m\u001b[0m\n\u001b[1;32m---> 22\u001b[1;33m \u001b[0mdriver\u001b[0m\u001b[1;33m.\u001b[0m\u001b[0mfind_elements\u001b[0m\u001b[1;33m(\u001b[0m\u001b[0mBy\u001b[0m\u001b[1;33m.\u001b[0m\u001b[0mCLASS_NAME\u001b[0m\u001b[1;33m,\u001b[0m \u001b[1;34m\"signup\"\u001b[0m\u001b[1;33m)\u001b[0m\u001b[1;33m.\u001b[0m\u001b[0mclick\u001b[0m\u001b[1;33m(\u001b[0m\u001b[1;33m)\u001b[0m\u001b[1;33m\u001b[0m\u001b[1;33m\u001b[0m\u001b[0m\n\u001b[0m\u001b[0;32m     23\u001b[0m '''\n\u001b[0;32m     24\u001b[0m \u001b[0muname\u001b[0m\u001b[1;33m.\u001b[0m\u001b[0msend_keys\u001b[0m\u001b[1;33m(\u001b[0m\u001b[1;34m\"username\"\u001b[0m\u001b[1;33m)\u001b[0m\u001b[1;33m\u001b[0m\u001b[1;33m\u001b[0m\u001b[0m\n",
      "\u001b[1;31mAttributeError\u001b[0m: 'list' object has no attribute 'click'"
     ]
    }
   ],
   "source": [
    "\n",
    "# Import the libraries.\n",
    "from selenium import webdriver\n",
    "from selenium.webdriver.support.ui import WebDriverWait\n",
    "from selenium.webdriver.common.by import By\n",
    "from selenium.webdriver.common.by import By\n",
    "# Create variables for login credentials.\n",
    "username = \"your username\"\n",
    "password = \"your password\"\n",
    "# Install the chrome web driver from selenium. \n",
    "\n",
    "\n",
    "chrome_options = webdriver.ChromeOptions()\n",
    "chrome_options.add_argument('--headless')\n",
    "chrome_options.add_argument('--no-sandbox')\n",
    "chrome_options.add_argument('--disable-dev-shm-usage')\n",
    "driver = webdriver.Chrome('chromedriver',chrome_options=chrome_options)\n",
    "# Launch the browser and open the github URL in your web driver.\n",
    "driver.get(\"https://steamyfy.com/\")\n",
    "\n",
    "# Find the username/email field and send the username to the input field.\n",
    "#uname = driver.find_element(\"id\", \"login_field\") \n",
    "driver.find_elements(By.CLASS_NAME, \"signup\").click()\n",
    "'''\n",
    "uname.send_keys(\"username\")\n",
    "\n",
    "# Find the password input field and send the password to the input field.\n",
    "pword = driver.find_element(\"id\", \"password\") \n",
    "pword.send_keys(\"password\")\n",
    "\n",
    "# Click sign in button to login the website.\n",
    "driver.find_element(\"name\", \"commit\").click()\n",
    "# Wait for login process to complete. \n",
    "WebDriverWait(driver=driver, timeout=10).until(\n",
    "    lambda x: x.execute_script(\"return document.readyState === 'complete'\")\n",
    ")\n",
    "# Verify that the login was successful.\n",
    "error_message = \"Incorrect username or password.\"\n",
    "# Retrieve any errors found. \n",
    "errors = driver.find_elements(By.CLASS_NAME, \"flash-error\")\n",
    "\n",
    "# When errors are found, the login will fail. \n",
    "if any(error_message in e.text for e in errors): \n",
    "    print(\"[!] Login failed\")\n",
    "else:\n",
    "    print(\"[+] Login successful\")\n",
    "# Close the driver\n",
    "driver.close()\n",
    "'''"
   ]
  },
  {
   "cell_type": "code",
   "execution_count": null,
   "id": "a5a8e652",
   "metadata": {},
   "outputs": [],
   "source": []
  }
 ],
 "metadata": {
  "kernelspec": {
   "display_name": "Python 3 (ipykernel)",
   "language": "python",
   "name": "python3"
  },
  "language_info": {
   "codemirror_mode": {
    "name": "ipython",
    "version": 3
   },
   "file_extension": ".py",
   "mimetype": "text/x-python",
   "name": "python",
   "nbconvert_exporter": "python",
   "pygments_lexer": "ipython3",
   "version": "3.11.3"
  }
 },
 "nbformat": 4,
 "nbformat_minor": 5
}
